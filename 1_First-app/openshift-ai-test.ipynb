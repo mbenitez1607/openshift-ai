{
 "cells": [
  {
   "cell_type": "code",
   "execution_count": null,
   "id": "c970a8b4",
   "metadata": {},
   "outputs": [],
   "source": [
    "!pip3 install numpy\n",
    "!pip3 install pandas\n",
    "!pip3 install matplotlib\n",
    "!pip3 install scipy"
   ]
  },
  {
   "cell_type": "code",
   "execution_count": null,
   "id": "9e84d642-c61c-478f-bdfe-0e8055acdae0",
   "metadata": {
    "tags": []
   },
   "outputs": [],
   "source": [
    "import numpy as np\n",
    "import pandas as pd"
   ]
  },
  {
   "cell_type": "code",
   "execution_count": null,
   "id": "f07b92b2-b235-4e03-9636-0335e96abe79",
   "metadata": {
    "tags": []
   },
   "outputs": [],
   "source": [
    "# Import Matplotlib\n",
    "\n",
    "import matplotlib.pyplot as plt "
   ]
  },
  {
   "cell_type": "code",
   "execution_count": null,
   "id": "0ce2c91b-8f78-4ddc-8df6-ff64b64f5edd",
   "metadata": {
    "tags": []
   },
   "outputs": [],
   "source": [
    "# Displaying Plots in Matplotlib\n",
    "%matplotlib inline\n",
    "\n",
    "\n",
    "x1 = np.linspace(0, 10, 100)\n",
    "\n",
    "\n",
    "# create a plot figure\n",
    "fig = plt.figure()\n",
    "\n",
    "plt.plot(x1, np.sin(x1), '-')\n",
    "plt.plot(x1, np.cos(x1), '--');"
   ]
  },
  {
   "cell_type": "code",
   "execution_count": null,
   "id": "9a96d6ad-e3e9-4ace-8d13-95d2491ab9de",
   "metadata": {
    "tags": []
   },
   "outputs": [],
   "source": [
    "# Compare Histograms of several distributions\n",
    "x1 = np.random.normal(0, 4, 1000)\n",
    "x2 = np.random.normal(-2, 2, 1000)\n",
    "x3 = np.random.normal(1, 5, 1000)\n",
    "\n",
    "kwargs = dict(histtype='stepfilled', alpha = 0.5, density = True, bins = 40)\n",
    "\n",
    "plt.hist(x1, **kwargs)\n",
    "plt.hist(x2, **kwargs)\n",
    "plt.hist(x3, **kwargs)\n",
    "\n",
    "plt.show();"
   ]
  },
  {
   "cell_type": "code",
   "execution_count": null,
   "id": "373fef15-0354-403b-bb62-81d4bcf168c9",
   "metadata": {
    "tags": []
   },
   "outputs": [],
   "source": [
    "# Two-Dimensional Histograms\n",
    "mean = [0, 0]\n",
    "cov = [[1, 1], [1, 2]]\n",
    "x8, y8 = np.random.multivariate_normal(mean, cov, 10000).T\n",
    "\n",
    "plt.hist2d(x8, y8, bins = 30, cmap = 'Blues')\n",
    "\n",
    "cb = plt.colorbar()\n",
    "\n",
    "cb.set_label('counts in bin')"
   ]
  },
  {
   "cell_type": "code",
   "execution_count": null,
   "id": "7a4ddc4d-ffad-492e-ae07-dee76441ba84",
   "metadata": {
    "tags": []
   },
   "outputs": [],
   "source": [
    "# 3D Contour Plots\n",
    "x14 = np.linspace(-6, 6, 30)\n",
    "y14 = np.linspace(-6, 6, 30)\n",
    "\n",
    "X1,Y1 = np.meshgrid(x14, y14)\n",
    "\n",
    "Z1 = np.sin(np.sqrt(X1 ** 2 + Y1 ** 2))"
   ]
  },
  {
   "cell_type": "code",
   "execution_count": null,
   "id": "168fb418-d1d4-45d8-940b-24b3f539670f",
   "metadata": {
    "tags": []
   },
   "outputs": [],
   "source": [
    "fig = plt.figure()\n",
    "ax = plt.axes(projection='3d')\n",
    "ax.contour3D(X1, Y1, Z1, 50, cmap='binary')\n",
    "\n",
    "ax.set_xlabel('x')\n",
    "ax.set_ylabel('y')\n",
    "ax.set_zlabel('z');"
   ]
  },
  {
   "cell_type": "code",
   "execution_count": null,
   "id": "083ee325-82ca-43bf-a549-ababebb6ce67",
   "metadata": {
    "tags": []
   },
   "outputs": [],
   "source": [
    "# function implementation\n",
    "from scipy import linalg, optimize"
   ]
  },
  {
   "cell_type": "code",
   "execution_count": null,
   "id": "69da8916-dcf8-48f7-863b-f9617ce74c4e",
   "metadata": {
    "tags": []
   },
   "outputs": [],
   "source": [
    "from scipy import special\n",
    "import numpy as np\n",
    "def drumhead_height(n, k, distance, angle, t):\n",
    "   kth_zero = special.jn_zeros(n, k)[-1]\n",
    "   return np.cos(t) * np.cos(n*angle) * special.jn(n, distance*kth_zero)\n",
    "theta = np.r_[0:2*np.pi:50j]\n",
    "radius = np.r_[0:1:50j]\n",
    "x = np.array([r * np.cos(theta) for r in radius])\n",
    "y = np.array([r * np.sin(theta) for r in radius])\n",
    "z = np.array([drumhead_height(1, 1, r, theta, 0.5) for r in radius])"
   ]
  },
  {
   "cell_type": "code",
   "execution_count": null,
   "id": "5df15a1c-dfed-4b64-a7b9-ae8638022bfd",
   "metadata": {
    "tags": []
   },
   "outputs": [],
   "source": [
    "import matplotlib.pyplot as plt\n",
    "fig = plt.figure()\n",
    "ax = fig.add_axes(rect=(0, 0.05, 0.95, 0.95), projection='3d')\n",
    "ax.plot_surface(x, y, z, rstride=1, cstride=1, cmap='RdBu_r', vmin=-0.5, vmax=0.5)\n",
    "ax.set_xlabel('X')\n",
    "ax.set_ylabel('Y')\n",
    "ax.set_xticks(np.arange(-1, 1.1, 0.5))\n",
    "ax.set_yticks(np.arange(-1, 1.1, 0.5))\n",
    "ax.set_zlabel('Z')\n",
    "plt.show()"
   ]
  },
  {
   "cell_type": "code",
   "execution_count": null,
   "id": "77bb59c8-497b-428a-b127-e7bda0c15d84",
   "metadata": {},
   "outputs": [],
   "source": []
  }
 ],
 "metadata": {
  "kernelspec": {
   "display_name": "Python 3.9",
   "language": "python",
   "name": "python3"
  },
  "language_info": {
   "codemirror_mode": {
    "name": "ipython",
    "version": 3
   },
   "file_extension": ".py",
   "mimetype": "text/x-python",
   "name": "python",
   "nbconvert_exporter": "python",
   "pygments_lexer": "ipython3",
   "version": "3.9.16"
  }
 },
 "nbformat": 4,
 "nbformat_minor": 5
}
